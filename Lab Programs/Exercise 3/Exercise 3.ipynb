{
 "cells": [
  {
   "cell_type": "markdown",
   "id": "25513c89",
   "metadata": {},
   "source": [
    "<b>1. Use the movies dataset and answer the questions:</b>\n",
    "\n",
    "a. What is the average imdb score for movies?\n",
    "\n",
    "b. How many null values are there in the ‘Age_certification’ column.\n",
    "\n",
    "c. How many numeric valued columns are present?\n",
    "\n",
    "d. Write the code to display the movies released after the year 2000. How many movies were released after the year 2000?\n",
    "\n",
    "e. After dropping all the null values in the dataset, how many rows remain?\n",
    "\n",
    "<b>Use the data after dropping the null values in 'imdb' and 'tmdb' columns to answer the below questions:</b>\n",
    "\n",
    "f. Out of these rows, how many movies released after 2020?\n",
    "\n",
    "g. What is the average tmdb_popularity for movies containing ‘Comedy’ as a genre?\n",
    "\n",
    "h. In how many movie descriptions, the word ‘novel’ appears?\n",
    "\n",
    "i. How many unique production countries are present in the data?\n",
    "\n",
    "j. What is the average IMDB score for action movies?"
   ]
  },
  {
   "cell_type": "code",
   "execution_count": 55,
   "id": "d3556831",
   "metadata": {},
   "outputs": [],
   "source": [
    "import pandas as pd"
   ]
  },
  {
   "cell_type": "code",
   "execution_count": 56,
   "id": "1c22a840",
   "metadata": {},
   "outputs": [],
   "source": [
    "data = pd.read_csv(\"movies.csv\")"
   ]
  },
  {
   "cell_type": "code",
   "execution_count": 57,
   "id": "f3489f68",
   "metadata": {
    "scrolled": true
   },
   "outputs": [
    {
     "data": {
      "text/html": [
       "<div>\n",
       "<style scoped>\n",
       "    .dataframe tbody tr th:only-of-type {\n",
       "        vertical-align: middle;\n",
       "    }\n",
       "\n",
       "    .dataframe tbody tr th {\n",
       "        vertical-align: top;\n",
       "    }\n",
       "\n",
       "    .dataframe thead th {\n",
       "        text-align: right;\n",
       "    }\n",
       "</style>\n",
       "<table border=\"1\" class=\"dataframe\">\n",
       "  <thead>\n",
       "    <tr style=\"text-align: right;\">\n",
       "      <th></th>\n",
       "      <th>id</th>\n",
       "      <th>title</th>\n",
       "      <th>type</th>\n",
       "      <th>description</th>\n",
       "      <th>release_year</th>\n",
       "      <th>age_certification</th>\n",
       "      <th>runtime</th>\n",
       "      <th>genres</th>\n",
       "      <th>production_countries</th>\n",
       "      <th>seasons</th>\n",
       "      <th>imdb_id</th>\n",
       "      <th>imdb_score</th>\n",
       "      <th>imdb_votes</th>\n",
       "      <th>tmdb_popularity</th>\n",
       "      <th>tmdb_score</th>\n",
       "    </tr>\n",
       "  </thead>\n",
       "  <tbody>\n",
       "    <tr>\n",
       "      <th>0</th>\n",
       "      <td>ts20945</td>\n",
       "      <td>The Three Stooges</td>\n",
       "      <td>SHOW</td>\n",
       "      <td>The Three Stooges were an American vaudeville ...</td>\n",
       "      <td>1934</td>\n",
       "      <td>TV-PG</td>\n",
       "      <td>19</td>\n",
       "      <td>['comedy', 'family', 'animation', 'action', 'f...</td>\n",
       "      <td>['US']</td>\n",
       "      <td>26.0</td>\n",
       "      <td>tt0850645</td>\n",
       "      <td>8.6</td>\n",
       "      <td>1092.0</td>\n",
       "      <td>15.424</td>\n",
       "      <td>7.6</td>\n",
       "    </tr>\n",
       "    <tr>\n",
       "      <th>1</th>\n",
       "      <td>tm19248</td>\n",
       "      <td>The General</td>\n",
       "      <td>MOVIE</td>\n",
       "      <td>During America’s Civil War, Union spies steal ...</td>\n",
       "      <td>1926</td>\n",
       "      <td>NaN</td>\n",
       "      <td>78</td>\n",
       "      <td>['action', 'drama', 'war', 'western', 'comedy'...</td>\n",
       "      <td>['US']</td>\n",
       "      <td>NaN</td>\n",
       "      <td>tt0017925</td>\n",
       "      <td>8.2</td>\n",
       "      <td>89766.0</td>\n",
       "      <td>8.647</td>\n",
       "      <td>8.0</td>\n",
       "    </tr>\n",
       "    <tr>\n",
       "      <th>2</th>\n",
       "      <td>tm82253</td>\n",
       "      <td>The Best Years of Our Lives</td>\n",
       "      <td>MOVIE</td>\n",
       "      <td>It's the hope that sustains the spirit of ever...</td>\n",
       "      <td>1946</td>\n",
       "      <td>NaN</td>\n",
       "      <td>171</td>\n",
       "      <td>['romance', 'war', 'drama']</td>\n",
       "      <td>['US']</td>\n",
       "      <td>NaN</td>\n",
       "      <td>tt0036868</td>\n",
       "      <td>8.1</td>\n",
       "      <td>63026.0</td>\n",
       "      <td>8.435</td>\n",
       "      <td>7.8</td>\n",
       "    </tr>\n",
       "    <tr>\n",
       "      <th>3</th>\n",
       "      <td>tm83884</td>\n",
       "      <td>His Girl Friday</td>\n",
       "      <td>MOVIE</td>\n",
       "      <td>Hildy, the journalist former wife of newspaper...</td>\n",
       "      <td>1940</td>\n",
       "      <td>NaN</td>\n",
       "      <td>92</td>\n",
       "      <td>['comedy', 'drama', 'romance']</td>\n",
       "      <td>['US']</td>\n",
       "      <td>NaN</td>\n",
       "      <td>tt0032599</td>\n",
       "      <td>7.8</td>\n",
       "      <td>57835.0</td>\n",
       "      <td>11.270</td>\n",
       "      <td>7.4</td>\n",
       "    </tr>\n",
       "    <tr>\n",
       "      <th>4</th>\n",
       "      <td>tm56584</td>\n",
       "      <td>In a Lonely Place</td>\n",
       "      <td>MOVIE</td>\n",
       "      <td>An aspiring actress begins to suspect that her...</td>\n",
       "      <td>1950</td>\n",
       "      <td>NaN</td>\n",
       "      <td>94</td>\n",
       "      <td>['thriller', 'drama', 'romance']</td>\n",
       "      <td>['US']</td>\n",
       "      <td>NaN</td>\n",
       "      <td>tt0042593</td>\n",
       "      <td>7.9</td>\n",
       "      <td>30924.0</td>\n",
       "      <td>8.273</td>\n",
       "      <td>7.6</td>\n",
       "    </tr>\n",
       "  </tbody>\n",
       "</table>\n",
       "</div>"
      ],
      "text/plain": [
       "        id                        title   type  \\\n",
       "0  ts20945            The Three Stooges   SHOW   \n",
       "1  tm19248                  The General  MOVIE   \n",
       "2  tm82253  The Best Years of Our Lives  MOVIE   \n",
       "3  tm83884              His Girl Friday  MOVIE   \n",
       "4  tm56584            In a Lonely Place  MOVIE   \n",
       "\n",
       "                                         description  release_year  \\\n",
       "0  The Three Stooges were an American vaudeville ...          1934   \n",
       "1  During America’s Civil War, Union spies steal ...          1926   \n",
       "2  It's the hope that sustains the spirit of ever...          1946   \n",
       "3  Hildy, the journalist former wife of newspaper...          1940   \n",
       "4  An aspiring actress begins to suspect that her...          1950   \n",
       "\n",
       "  age_certification  runtime  \\\n",
       "0             TV-PG       19   \n",
       "1               NaN       78   \n",
       "2               NaN      171   \n",
       "3               NaN       92   \n",
       "4               NaN       94   \n",
       "\n",
       "                                              genres production_countries  \\\n",
       "0  ['comedy', 'family', 'animation', 'action', 'f...               ['US']   \n",
       "1  ['action', 'drama', 'war', 'western', 'comedy'...               ['US']   \n",
       "2                        ['romance', 'war', 'drama']               ['US']   \n",
       "3                     ['comedy', 'drama', 'romance']               ['US']   \n",
       "4                   ['thriller', 'drama', 'romance']               ['US']   \n",
       "\n",
       "   seasons    imdb_id  imdb_score  imdb_votes  tmdb_popularity  tmdb_score  \n",
       "0     26.0  tt0850645         8.6      1092.0           15.424         7.6  \n",
       "1      NaN  tt0017925         8.2     89766.0            8.647         8.0  \n",
       "2      NaN  tt0036868         8.1     63026.0            8.435         7.8  \n",
       "3      NaN  tt0032599         7.8     57835.0           11.270         7.4  \n",
       "4      NaN  tt0042593         7.9     30924.0            8.273         7.6  "
      ]
     },
     "execution_count": 57,
     "metadata": {},
     "output_type": "execute_result"
    }
   ],
   "source": [
    "data.head()"
   ]
  },
  {
   "cell_type": "code",
   "execution_count": 58,
   "id": "feb2945c",
   "metadata": {},
   "outputs": [
    {
     "name": "stdout",
     "output_type": "stream",
     "text": [
      "<class 'pandas.core.frame.DataFrame'>\n",
      "RangeIndex: 9871 entries, 0 to 9870\n",
      "Data columns (total 15 columns):\n",
      " #   Column                Non-Null Count  Dtype  \n",
      "---  ------                --------------  -----  \n",
      " 0   id                    9871 non-null   object \n",
      " 1   title                 9871 non-null   object \n",
      " 2   type                  9871 non-null   object \n",
      " 3   description           9752 non-null   object \n",
      " 4   release_year          9871 non-null   int64  \n",
      " 5   age_certification     3384 non-null   object \n",
      " 6   runtime               9871 non-null   int64  \n",
      " 7   genres                9871 non-null   object \n",
      " 8   production_countries  9871 non-null   object \n",
      " 9   seasons               1357 non-null   float64\n",
      " 10  imdb_id               9204 non-null   object \n",
      " 11  imdb_score            8850 non-null   float64\n",
      " 12  imdb_votes            8840 non-null   float64\n",
      " 13  tmdb_popularity       9324 non-null   float64\n",
      " 14  tmdb_score            7789 non-null   float64\n",
      "dtypes: float64(5), int64(2), object(8)\n",
      "memory usage: 1.1+ MB\n"
     ]
    }
   ],
   "source": [
    "data.info()"
   ]
  },
  {
   "cell_type": "code",
   "execution_count": 59,
   "id": "deeb9479",
   "metadata": {},
   "outputs": [
    {
     "name": "stdout",
     "output_type": "stream",
     "text": [
      "Average IMDB Score:  5.97639548022599\n"
     ]
    }
   ],
   "source": [
    "print(\"Average IMDB Score: \", data['imdb_score'].mean())"
   ]
  },
  {
   "cell_type": "code",
   "execution_count": 60,
   "id": "88e26ad0",
   "metadata": {},
   "outputs": [
    {
     "name": "stdout",
     "output_type": "stream",
     "text": [
      "There are 3384 null values in Age Certification column.\n"
     ]
    }
   ],
   "source": [
    "null_vals = data[\"age_certification\"].isnull().sum()\n",
    "tot = len(data)\n",
    "\n",
    "print(\"There are\", tot - null_vals, \"null values in Age Certification column.\")"
   ]
  },
  {
   "cell_type": "code",
   "execution_count": 61,
   "id": "2bc371e5",
   "metadata": {},
   "outputs": [
    {
     "data": {
      "text/plain": [
       "id                       object\n",
       "title                    object\n",
       "type                     object\n",
       "description              object\n",
       "release_year              int64\n",
       "age_certification        object\n",
       "runtime                   int64\n",
       "genres                   object\n",
       "production_countries     object\n",
       "seasons                 float64\n",
       "imdb_id                  object\n",
       "imdb_score              float64\n",
       "imdb_votes              float64\n",
       "tmdb_popularity         float64\n",
       "tmdb_score              float64\n",
       "dtype: object"
      ]
     },
     "execution_count": 61,
     "metadata": {},
     "output_type": "execute_result"
    }
   ],
   "source": [
    "data.dtypes"
   ]
  },
  {
   "cell_type": "code",
   "execution_count": 74,
   "id": "8945bc9b",
   "metadata": {},
   "outputs": [
    {
     "name": "stdout",
     "output_type": "stream",
     "text": [
      "There are 7 numeric columns.\n"
     ]
    }
   ],
   "source": [
    "numeric = 0\n",
    "\n",
    "for i in range(len(data.dtypes)):  \n",
    "    if data.dtypes[i] in ['int64', 'float64']:\n",
    "        numeric += 1\n",
    "\n",
    "print(\"There are\", numeric, \"numeric columns.\")"
   ]
  },
  {
   "cell_type": "code",
   "execution_count": 63,
   "id": "14a9fd98",
   "metadata": {},
   "outputs": [
    {
     "name": "stdout",
     "output_type": "stream",
     "text": [
      "5850 movies were released after the year 2000.\n"
     ]
    }
   ],
   "source": [
    "after_2000 = ((data['release_year'] > 2000) & (data['type'] == \"MOVIE\")).sum()\n",
    "\n",
    "print(after_2000, \"movies were released after the year 2000.\")"
   ]
  },
  {
   "cell_type": "code",
   "execution_count": 64,
   "id": "3286ff9d",
   "metadata": {},
   "outputs": [
    {
     "name": "stdout",
     "output_type": "stream",
     "text": [
      "After dropping the null values, 581 rows remain.\n"
     ]
    }
   ],
   "source": [
    "non_null = len(data.dropna())\n",
    "\n",
    "print(\"After dropping the null values,\", non_null, \"rows remain.\")"
   ]
  },
  {
   "cell_type": "code",
   "execution_count": 65,
   "id": "6416d4aa",
   "metadata": {},
   "outputs": [
    {
     "name": "stdout",
     "output_type": "stream",
     "text": [
      "390 movies were released after the year 2020.\n"
     ]
    }
   ],
   "source": [
    "# Pre-processing\n",
    "data = data.dropna(subset=('imdb_id', 'imdb_score', 'imdb_votes', 'tmdb_popularity', 'tmdb_score'))\n",
    "\n",
    "\n",
    "\n",
    "after_2020 = ((data['release_year'] > 2020) & (data['type'] == \"MOVIE\")).sum()\n",
    "\n",
    "print(after_2020, \"movies were released after the year 2020.\")"
   ]
  },
  {
   "cell_type": "code",
   "execution_count": 66,
   "id": "331b5ebe",
   "metadata": {},
   "outputs": [
    {
     "name": "stdout",
     "output_type": "stream",
     "text": [
      "Average tmdb_popularity for movies containing ‘Comedy’ as a genre is 6.728305907284776\n"
     ]
    }
   ],
   "source": [
    "total_tmdb_popularity = 0\n",
    "count = 0\n",
    "\n",
    "for i in range(len(data)):\n",
    "    if ('comedy' in data.iloc[i, 7]) and (data.iloc[i][2] == \"MOVIE\"):\n",
    "        total_tmdb_popularity += data.iloc[i, 13]\n",
    "        count += 1\n",
    "        \n",
    "avg_tmdb_popularity = total_tmdb_popularity / count\n",
    "\n",
    "print(\"Average tmdb_popularity for movies containing ‘Comedy’ as a genre is\", avg_tmdb_popularity)"
   ]
  },
  {
   "cell_type": "code",
   "execution_count": 67,
   "id": "1b3c318e",
   "metadata": {},
   "outputs": [
    {
     "name": "stdout",
     "output_type": "stream",
     "text": [
      "In 52 movie descriptions, the word ‘novel’ appears.\n"
     ]
    }
   ],
   "source": [
    "count = 0\n",
    "\n",
    "for i in range(len(data)):\n",
    "    if ('novel' in str(data.iloc[i, 3]).lower()) and (data.iloc[i][2] == \"MOVIE\"):\n",
    "        total_tmdb_popularity += data.iloc[i, 13]\n",
    "        count += 1\n",
    "\n",
    "print(\"In\", count, \"movie descriptions, the word ‘novel’ appears.\")\n"
   ]
  },
  {
   "cell_type": "code",
   "execution_count": 68,
   "id": "3c781abe",
   "metadata": {},
   "outputs": [
    {
     "name": "stdout",
     "output_type": "stream",
     "text": [
      "109 unique production countries are present in the data.\n"
     ]
    }
   ],
   "source": [
    "unique_countries = set()\n",
    "\n",
    "for i in range(len(data)):\n",
    "    for j in eval(data.iloc[i, 8]):\n",
    "        unique_countries.add(j)\n",
    "\n",
    "print(len(unique_countries), \"unique production countries are present in the data.\")"
   ]
  },
  {
   "cell_type": "code",
   "execution_count": 69,
   "id": "72fa2b57",
   "metadata": {},
   "outputs": [
    {
     "data": {
      "text/plain": [
       "{'AE',\n",
       " 'AF',\n",
       " 'AL',\n",
       " 'AN',\n",
       " 'AR',\n",
       " 'AT',\n",
       " 'AU',\n",
       " 'BA',\n",
       " 'BE',\n",
       " 'BG',\n",
       " 'BM',\n",
       " 'BO',\n",
       " 'BR',\n",
       " 'CA',\n",
       " 'CH',\n",
       " 'CI',\n",
       " 'CL',\n",
       " 'CM',\n",
       " 'CN',\n",
       " 'CO',\n",
       " 'CR',\n",
       " 'CU',\n",
       " 'CY',\n",
       " 'CZ',\n",
       " 'DE',\n",
       " 'DK',\n",
       " 'DO',\n",
       " 'EE',\n",
       " 'EG',\n",
       " 'ES',\n",
       " 'ET',\n",
       " 'FI',\n",
       " 'FR',\n",
       " 'GB',\n",
       " 'GE',\n",
       " 'GQ',\n",
       " 'GR',\n",
       " 'HK',\n",
       " 'HR',\n",
       " 'HU',\n",
       " 'ID',\n",
       " 'IE',\n",
       " 'IL',\n",
       " 'IN',\n",
       " 'IO',\n",
       " 'IR',\n",
       " 'IS',\n",
       " 'IT',\n",
       " 'JM',\n",
       " 'JO',\n",
       " 'JP',\n",
       " 'KE',\n",
       " 'KH',\n",
       " 'KR',\n",
       " 'KZ',\n",
       " 'LB',\n",
       " 'LI',\n",
       " 'LT',\n",
       " 'LU',\n",
       " 'LV',\n",
       " 'MA',\n",
       " 'MC',\n",
       " 'MN',\n",
       " 'MT',\n",
       " 'MX',\n",
       " 'MY',\n",
       " 'NG',\n",
       " 'NL',\n",
       " 'NO',\n",
       " 'NZ',\n",
       " 'PA',\n",
       " 'PH',\n",
       " 'PK',\n",
       " 'PL',\n",
       " 'PR',\n",
       " 'PS',\n",
       " 'PT',\n",
       " 'PY',\n",
       " 'QA',\n",
       " 'RO',\n",
       " 'RS',\n",
       " 'RU',\n",
       " 'SE',\n",
       " 'SG',\n",
       " 'SI',\n",
       " 'SK',\n",
       " 'SO',\n",
       " 'SU',\n",
       " 'SV',\n",
       " 'SY',\n",
       " 'SZ',\n",
       " 'TC',\n",
       " 'TH',\n",
       " 'TN',\n",
       " 'TR',\n",
       " 'TT',\n",
       " 'TW',\n",
       " 'UA',\n",
       " 'UG',\n",
       " 'US',\n",
       " 'UY',\n",
       " 'United States of America',\n",
       " 'VE',\n",
       " 'VN',\n",
       " 'XC',\n",
       " 'XK',\n",
       " 'XX',\n",
       " 'YU',\n",
       " 'ZA'}"
      ]
     },
     "execution_count": 69,
     "metadata": {},
     "output_type": "execute_result"
    }
   ],
   "source": [
    "unique_countries"
   ]
  },
  {
   "cell_type": "code",
   "execution_count": 75,
   "id": "e954c09b",
   "metadata": {},
   "outputs": [
    {
     "name": "stdout",
     "output_type": "stream",
     "text": [
      "Average imdb_score for Action movies is 5.505442670537001\n"
     ]
    }
   ],
   "source": [
    "total_imdb_score = 0\n",
    "count = 0\n",
    "\n",
    "for i in range(len(data)):\n",
    "    if ('action' in data.iloc[i, 7]) and (data.iloc[i][2] == \"MOVIE\"):\n",
    "        total_imdb_score += data.iloc[i, 11]\n",
    "        count += 1\n",
    "        \n",
    "avg_imdb_score = total_imdb_score / count\n",
    "\n",
    "\n",
    "print(\"Average imdb_score for Action movies is\", avg_imdb_score)"
   ]
  },
  {
   "cell_type": "markdown",
   "id": "96bf5c13",
   "metadata": {},
   "source": [
    "<b>2. Use the student_1 and student_2 excel files to answer the below question: Write the code for the following:<b>\n",
    "\n",
    "a. Get columns 'Registration number' and 'Program' in student_1 which should come from student_2\n",
    "    \n",
    "b. Save this as a separate dataframe.\n",
    "    \n",
    "c. Create a column called 'attendance'. The column should contain the number of hours each student is present."
   ]
  },
  {
   "cell_type": "code",
   "execution_count": 104,
   "id": "c7ebacc6",
   "metadata": {},
   "outputs": [],
   "source": [
    "df1 = pd.read_excel(\"student_1.xlsx\")\n",
    "df2 = pd.read_excel(\"student_2.xlsx\")"
   ]
  },
  {
   "cell_type": "code",
   "execution_count": 105,
   "id": "16462413",
   "metadata": {},
   "outputs": [
    {
     "data": {
      "text/html": [
       "<div>\n",
       "<style scoped>\n",
       "    .dataframe tbody tr th:only-of-type {\n",
       "        vertical-align: middle;\n",
       "    }\n",
       "\n",
       "    .dataframe tbody tr th {\n",
       "        vertical-align: top;\n",
       "    }\n",
       "\n",
       "    .dataframe thead th {\n",
       "        text-align: right;\n",
       "    }\n",
       "</style>\n",
       "<table border=\"1\" class=\"dataframe\">\n",
       "  <thead>\n",
       "    <tr style=\"text-align: right;\">\n",
       "      <th></th>\n",
       "      <th>num</th>\n",
       "      <th>11 Jul 2022</th>\n",
       "      <th>12 Jul 2022</th>\n",
       "      <th>13 Jul 2022</th>\n",
       "      <th>14 Jul 2022</th>\n",
       "      <th>19 Jul 2022</th>\n",
       "      <th>21 Jul 2022</th>\n",
       "      <th>26 Jul 2022</th>\n",
       "    </tr>\n",
       "  </thead>\n",
       "  <tbody>\n",
       "    <tr>\n",
       "      <th>0</th>\n",
       "      <td>21110077</td>\n",
       "      <td>P</td>\n",
       "      <td>P</td>\n",
       "      <td>P</td>\n",
       "      <td>P</td>\n",
       "      <td>P</td>\n",
       "      <td>P</td>\n",
       "      <td>P</td>\n",
       "    </tr>\n",
       "    <tr>\n",
       "      <th>1</th>\n",
       "      <td>21110219</td>\n",
       "      <td>P</td>\n",
       "      <td>P</td>\n",
       "      <td>P</td>\n",
       "      <td>A</td>\n",
       "      <td>P</td>\n",
       "      <td>P</td>\n",
       "      <td>P</td>\n",
       "    </tr>\n",
       "    <tr>\n",
       "      <th>2</th>\n",
       "      <td>21110278</td>\n",
       "      <td>P</td>\n",
       "      <td>P</td>\n",
       "      <td>P</td>\n",
       "      <td>P</td>\n",
       "      <td>P</td>\n",
       "      <td>P</td>\n",
       "      <td>P</td>\n",
       "    </tr>\n",
       "  </tbody>\n",
       "</table>\n",
       "</div>"
      ],
      "text/plain": [
       "        num 11 Jul 2022 12 Jul 2022 13 Jul 2022 14 Jul 2022 19 Jul 2022  \\\n",
       "0  21110077           P           P           P           P           P   \n",
       "1  21110219           P           P           P           A           P   \n",
       "2  21110278           P           P           P           P           P   \n",
       "\n",
       "  21 Jul 2022 26 Jul 2022  \n",
       "0           P           P  \n",
       "1           P           P  \n",
       "2           P           P  "
      ]
     },
     "execution_count": 105,
     "metadata": {},
     "output_type": "execute_result"
    }
   ],
   "source": [
    "df1.head(3)"
   ]
  },
  {
   "cell_type": "code",
   "execution_count": 106,
   "id": "ac9a3510",
   "metadata": {},
   "outputs": [
    {
     "data": {
      "text/html": [
       "<div>\n",
       "<style scoped>\n",
       "    .dataframe tbody tr th:only-of-type {\n",
       "        vertical-align: middle;\n",
       "    }\n",
       "\n",
       "    .dataframe tbody tr th {\n",
       "        vertical-align: top;\n",
       "    }\n",
       "\n",
       "    .dataframe thead th {\n",
       "        text-align: right;\n",
       "    }\n",
       "</style>\n",
       "<table border=\"1\" class=\"dataframe\">\n",
       "  <thead>\n",
       "    <tr style=\"text-align: right;\">\n",
       "      <th></th>\n",
       "      <th>roll_number</th>\n",
       "      <th>Program</th>\n",
       "      <th>Registration Number</th>\n",
       "    </tr>\n",
       "  </thead>\n",
       "  <tbody>\n",
       "    <tr>\n",
       "      <th>0</th>\n",
       "      <td>21110072</td>\n",
       "      <td>B.Tech AI &amp; DS</td>\n",
       "      <td>21011101001</td>\n",
       "    </tr>\n",
       "    <tr>\n",
       "      <th>1</th>\n",
       "      <td>21110024</td>\n",
       "      <td>B.Tech AI &amp; DS</td>\n",
       "      <td>21011101002</td>\n",
       "    </tr>\n",
       "    <tr>\n",
       "      <th>2</th>\n",
       "      <td>21110136</td>\n",
       "      <td>B.Tech AI &amp; DS</td>\n",
       "      <td>21011101003</td>\n",
       "    </tr>\n",
       "  </tbody>\n",
       "</table>\n",
       "</div>"
      ],
      "text/plain": [
       "   roll_number         Program  Registration Number\n",
       "0     21110072  B.Tech AI & DS          21011101001\n",
       "1     21110024  B.Tech AI & DS          21011101002\n",
       "2     21110136  B.Tech AI & DS          21011101003"
      ]
     },
     "execution_count": 106,
     "metadata": {},
     "output_type": "execute_result"
    }
   ],
   "source": [
    "df2.head(3)"
   ]
  },
  {
   "cell_type": "code",
   "execution_count": 107,
   "id": "51029863",
   "metadata": {},
   "outputs": [],
   "source": [
    "df = df1.merge(df2, left_on=\"num\", right_on=\"roll_number\", how=\"inner\")"
   ]
  },
  {
   "cell_type": "code",
   "execution_count": 108,
   "id": "01cd655e",
   "metadata": {},
   "outputs": [
    {
     "data": {
      "text/html": [
       "<div>\n",
       "<style scoped>\n",
       "    .dataframe tbody tr th:only-of-type {\n",
       "        vertical-align: middle;\n",
       "    }\n",
       "\n",
       "    .dataframe tbody tr th {\n",
       "        vertical-align: top;\n",
       "    }\n",
       "\n",
       "    .dataframe thead th {\n",
       "        text-align: right;\n",
       "    }\n",
       "</style>\n",
       "<table border=\"1\" class=\"dataframe\">\n",
       "  <thead>\n",
       "    <tr style=\"text-align: right;\">\n",
       "      <th></th>\n",
       "      <th>num</th>\n",
       "      <th>11 Jul 2022</th>\n",
       "      <th>12 Jul 2022</th>\n",
       "      <th>13 Jul 2022</th>\n",
       "      <th>14 Jul 2022</th>\n",
       "      <th>19 Jul 2022</th>\n",
       "      <th>21 Jul 2022</th>\n",
       "      <th>26 Jul 2022</th>\n",
       "      <th>roll_number</th>\n",
       "      <th>Program</th>\n",
       "      <th>Registration Number</th>\n",
       "    </tr>\n",
       "  </thead>\n",
       "  <tbody>\n",
       "    <tr>\n",
       "      <th>0</th>\n",
       "      <td>21110077</td>\n",
       "      <td>P</td>\n",
       "      <td>P</td>\n",
       "      <td>P</td>\n",
       "      <td>P</td>\n",
       "      <td>P</td>\n",
       "      <td>P</td>\n",
       "      <td>P</td>\n",
       "      <td>21110077</td>\n",
       "      <td>B.Tech CSE (IoT)</td>\n",
       "      <td>21011102006</td>\n",
       "    </tr>\n",
       "    <tr>\n",
       "      <th>1</th>\n",
       "      <td>21110219</td>\n",
       "      <td>P</td>\n",
       "      <td>P</td>\n",
       "      <td>P</td>\n",
       "      <td>A</td>\n",
       "      <td>P</td>\n",
       "      <td>P</td>\n",
       "      <td>P</td>\n",
       "      <td>21110219</td>\n",
       "      <td>B.Tech CSE (IoT)</td>\n",
       "      <td>21011102002</td>\n",
       "    </tr>\n",
       "    <tr>\n",
       "      <th>2</th>\n",
       "      <td>21110278</td>\n",
       "      <td>P</td>\n",
       "      <td>P</td>\n",
       "      <td>P</td>\n",
       "      <td>P</td>\n",
       "      <td>P</td>\n",
       "      <td>P</td>\n",
       "      <td>P</td>\n",
       "      <td>21110278</td>\n",
       "      <td>B.Tech CSE (IoT)</td>\n",
       "      <td>21011102057</td>\n",
       "    </tr>\n",
       "  </tbody>\n",
       "</table>\n",
       "</div>"
      ],
      "text/plain": [
       "        num 11 Jul 2022 12 Jul 2022 13 Jul 2022 14 Jul 2022 19 Jul 2022  \\\n",
       "0  21110077           P           P           P           P           P   \n",
       "1  21110219           P           P           P           A           P   \n",
       "2  21110278           P           P           P           P           P   \n",
       "\n",
       "  21 Jul 2022 26 Jul 2022  roll_number           Program  Registration Number  \n",
       "0           P           P     21110077  B.Tech CSE (IoT)          21011102006  \n",
       "1           P           P     21110219  B.Tech CSE (IoT)          21011102002  \n",
       "2           P           P     21110278  B.Tech CSE (IoT)          21011102057  "
      ]
     },
     "execution_count": 108,
     "metadata": {},
     "output_type": "execute_result"
    }
   ],
   "source": [
    "df.head(3)"
   ]
  },
  {
   "cell_type": "code",
   "execution_count": 109,
   "id": "430ae74a",
   "metadata": {},
   "outputs": [],
   "source": [
    "df['attendance'] = 0\n",
    "\n",
    "for i in range(len(df)):\n",
    "    for j in range(1, 8):\n",
    "        if df.iloc[i, j] == 'P':\n",
    "            df.loc[i, 'attendance'] += 1 "
   ]
  },
  {
   "cell_type": "code",
   "execution_count": 110,
   "id": "4794f0af",
   "metadata": {},
   "outputs": [
    {
     "data": {
      "text/html": [
       "<div>\n",
       "<style scoped>\n",
       "    .dataframe tbody tr th:only-of-type {\n",
       "        vertical-align: middle;\n",
       "    }\n",
       "\n",
       "    .dataframe tbody tr th {\n",
       "        vertical-align: top;\n",
       "    }\n",
       "\n",
       "    .dataframe thead th {\n",
       "        text-align: right;\n",
       "    }\n",
       "</style>\n",
       "<table border=\"1\" class=\"dataframe\">\n",
       "  <thead>\n",
       "    <tr style=\"text-align: right;\">\n",
       "      <th></th>\n",
       "      <th>num</th>\n",
       "      <th>11 Jul 2022</th>\n",
       "      <th>12 Jul 2022</th>\n",
       "      <th>13 Jul 2022</th>\n",
       "      <th>14 Jul 2022</th>\n",
       "      <th>19 Jul 2022</th>\n",
       "      <th>21 Jul 2022</th>\n",
       "      <th>26 Jul 2022</th>\n",
       "      <th>roll_number</th>\n",
       "      <th>Program</th>\n",
       "      <th>Registration Number</th>\n",
       "      <th>attendance</th>\n",
       "    </tr>\n",
       "  </thead>\n",
       "  <tbody>\n",
       "    <tr>\n",
       "      <th>0</th>\n",
       "      <td>21110077</td>\n",
       "      <td>P</td>\n",
       "      <td>P</td>\n",
       "      <td>P</td>\n",
       "      <td>P</td>\n",
       "      <td>P</td>\n",
       "      <td>P</td>\n",
       "      <td>P</td>\n",
       "      <td>21110077</td>\n",
       "      <td>B.Tech CSE (IoT)</td>\n",
       "      <td>21011102006</td>\n",
       "      <td>7</td>\n",
       "    </tr>\n",
       "    <tr>\n",
       "      <th>1</th>\n",
       "      <td>21110219</td>\n",
       "      <td>P</td>\n",
       "      <td>P</td>\n",
       "      <td>P</td>\n",
       "      <td>A</td>\n",
       "      <td>P</td>\n",
       "      <td>P</td>\n",
       "      <td>P</td>\n",
       "      <td>21110219</td>\n",
       "      <td>B.Tech CSE (IoT)</td>\n",
       "      <td>21011102002</td>\n",
       "      <td>6</td>\n",
       "    </tr>\n",
       "    <tr>\n",
       "      <th>2</th>\n",
       "      <td>21110278</td>\n",
       "      <td>P</td>\n",
       "      <td>P</td>\n",
       "      <td>P</td>\n",
       "      <td>P</td>\n",
       "      <td>P</td>\n",
       "      <td>P</td>\n",
       "      <td>P</td>\n",
       "      <td>21110278</td>\n",
       "      <td>B.Tech CSE (IoT)</td>\n",
       "      <td>21011102057</td>\n",
       "      <td>7</td>\n",
       "    </tr>\n",
       "  </tbody>\n",
       "</table>\n",
       "</div>"
      ],
      "text/plain": [
       "        num 11 Jul 2022 12 Jul 2022 13 Jul 2022 14 Jul 2022 19 Jul 2022  \\\n",
       "0  21110077           P           P           P           P           P   \n",
       "1  21110219           P           P           P           A           P   \n",
       "2  21110278           P           P           P           P           P   \n",
       "\n",
       "  21 Jul 2022 26 Jul 2022  roll_number           Program  Registration Number  \\\n",
       "0           P           P     21110077  B.Tech CSE (IoT)          21011102006   \n",
       "1           P           P     21110219  B.Tech CSE (IoT)          21011102002   \n",
       "2           P           P     21110278  B.Tech CSE (IoT)          21011102057   \n",
       "\n",
       "   attendance  \n",
       "0           7  \n",
       "1           6  \n",
       "2           7  "
      ]
     },
     "execution_count": 110,
     "metadata": {},
     "output_type": "execute_result"
    }
   ],
   "source": [
    "df.head(3)"
   ]
  }
 ],
 "metadata": {
  "kernelspec": {
   "display_name": "Python 3.10.6 64-bit",
   "language": "python",
   "name": "python3"
  },
  "language_info": {
   "codemirror_mode": {
    "name": "ipython",
    "version": 3
   },
   "file_extension": ".py",
   "mimetype": "text/x-python",
   "name": "python",
   "nbconvert_exporter": "python",
   "pygments_lexer": "ipython3",
   "version": "3.10.6"
  },
  "vscode": {
   "interpreter": {
    "hash": "b0fa6594d8f4cbf19f97940f81e996739fb7646882a419484c72d19e05852a7e"
   }
  }
 },
 "nbformat": 4,
 "nbformat_minor": 5
}
